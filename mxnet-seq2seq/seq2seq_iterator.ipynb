{
 "cells": [
  {
   "cell_type": "code",
   "execution_count": 1,
   "metadata": {
    "collapsed": false,
    "deletable": true,
    "editable": true
   },
   "outputs": [
    {
     "name": "stderr",
     "output_type": "stream",
     "text": [
      "/usr/lib/python2.7/json/encoder.py:207: DeprecationWarning: Interpreting naive datetime as local 2017-03-30 17:44:52.398851. Please add timezone info to timestamps.\n",
      "  chunks = self.iterencode(o, _one_shot=True)\n"
     ]
    }
   ],
   "source": [
    "import numpy as np\n",
    "import mxnet as mx\n",
    "from collections import namedtuple, Counter\n",
    "from unidecode import unidecode\n",
    "from itertools import groupby\n",
    "from mxnet.io import DataIter\n",
    "from random import shuffle\n",
    "\n",
    "import deepdish as dd\n",
    "\n",
    "import operator\n",
    "import pickle\n",
    "import re\n",
    "import warnings"
   ]
  },
  {
   "cell_type": "code",
   "execution_count": 2,
   "metadata": {
    "collapsed": false,
    "deletable": true,
    "editable": true
   },
   "outputs": [],
   "source": [
    "# Get rid of annoying Python deprecation warnings from built-in JSON encoder\n",
    "warnings.filterwarnings(\"ignore\", category=DeprecationWarning)   "
   ]
  },
  {
   "cell_type": "code",
   "execution_count": 3,
   "metadata": {
    "collapsed": true,
    "deletable": true,
    "editable": true
   },
   "outputs": [],
   "source": [
    "# Decode text as UTF-8\n",
    "# Remove diacritical signs and convert to Latin alphabet\n",
    "# Separate punctuation as separate \"words\"\n",
    "def tokenize_text(fname, vocab=None, invalid_label=0, start_label=1, sep_punctuation=True):\n",
    "    lines = unidecode(open(fname).read().decode('utf-8')).split('\\n')\n",
    "    lines = [x for x in lines if x]\n",
    "    lines = map(lambda x: re.findall(r\"\\w+|[^\\w\\s]\", x, re.UNICODE), lines)    \n",
    "    sentences, vocab = mx.rnn.encode_sentences(lines, vocab=vocab, invalid_label=invalid_label, start_label=start_label)\n",
    "    return sentences, vocab\n",
    "\n",
    "Dataset = namedtuple(\n",
    "    'Dataset', \n",
    "    ['src_sent', 'src_vocab', 'inv_src_vocab', 'targ_sent', 'targ_vocab', 'inv_targ_vocab'])\n",
    "\n",
    "def invert_dict(d):\n",
    "    return {v: k for k, v in d.iteritems()}\n",
    "\n",
    "\n",
    "def get_data(src_path, targ_path, start_label=1, invalid_label=0, pad_symbol='<PAD>'):\n",
    "    src_sent, src_vocab = tokenize_text(src_path, start_label=start_label,\n",
    "                                invalid_label=invalid_label)\n",
    "    \n",
    "    src_vocab[pad_symbol] = invalid_label\n",
    "    inv_src_vocab = invert_dict(src_vocab)\n",
    "\n",
    "    targ_sent, targ_vocab = tokenize_text(targ_path, start_label=start_label, #new_start+1,\n",
    "                                          invalid_label=invalid_label)\n",
    "    \n",
    "    targ_vocab[pad_symbol] = invalid_label\n",
    "    inv_targ_vocab = invert_dict(targ_vocab)\n",
    "    \n",
    "    return Dataset(\n",
    "        src_sent=src_sent, src_vocab=src_vocab, inv_src_vocab=inv_src_vocab,\n",
    "        targ_sent=targ_sent, targ_vocab=targ_vocab, inv_targ_vocab=inv_targ_vocab)"
   ]
  },
  {
   "cell_type": "code",
   "execution_count": 4,
   "metadata": {
    "collapsed": true,
    "deletable": true,
    "editable": true
   },
   "outputs": [],
   "source": [
    "def persist_dataset(dataset, path):\n",
    "    with open(path, 'wb+') as fileobj:\n",
    "        pickle.dump(dataset, fileobj)\n",
    "        \n",
    "def load_dataset(path):\n",
    "    with open(path, 'rb') as fileobj:\n",
    "        return pickle.load(fileobj)"
   ]
  },
  {
   "cell_type": "code",
   "execution_count": 5,
   "metadata": {
    "collapsed": false,
    "deletable": true,
    "editable": true
   },
   "outputs": [],
   "source": [
    "dataset = \\\n",
    "    get_data(\n",
    "        src_path='./data/europarl-v7.es-en.en_small',\n",
    "        targ_path='./data/europarl-v7.es-en.es_small',\n",
    "        start_label=1,\n",
    "        invalid_label=0\n",
    "    )"
   ]
  },
  {
   "cell_type": "code",
   "execution_count": 29,
   "metadata": {
    "collapsed": false,
    "deletable": true,
    "editable": true
   },
   "outputs": [],
   "source": [
    "class TwoDBisect:\n",
    "    def __init__(self, buckets):\n",
    "        self.buckets = sorted(buckets, key=operator.itemgetter(0, 1))\n",
    "        self.x, self.y = zip(*buckets)\n",
    "        self.x, self.y = np.array(list(self.x)), np.array(list(self.y))\n",
    "\n",
    "    def twod_bisect(self, source, target):    \n",
    "        offset1 = np.searchsorted(self.x, len(source), side='left')\n",
    "        offset2 = np.where(self.y[offset1:] >= len(target))[0]        \n",
    "        return self.buckets[offset1 + offset2[0]] \n",
    "\n",
    "class Seq2SeqIterator:    \n",
    "    \n",
    "    def __init__(self, dataset, buckets=None, batch_size=32, max_sent_len=None):\n",
    "        self.src_sent = dataset.src_sent\n",
    "        self.targ_sent = dataset.targ_sent\n",
    "        if buckets:\n",
    "            z = zip(*buckets)\n",
    "            self.max_sent_len = max(max(z[0]), max(z[1]))\n",
    "        else:\n",
    "            self.max_sent_len = max_sent_len\n",
    "        if self.max_sent_len:\n",
    "            self.src_sent, self.targ_sent = self.filter_long_sent(self.src_sent, self.targ_sent, self.max_sent_len) \n",
    "        self.src_vocab = dataset.src_vocab\n",
    "        self.targ_vocab = dataset.targ_vocab\n",
    "        self.inv_src_vocab = dataset.inv_src_vocab\n",
    "        self.inv_targ_vocab = dataset.inv_targ_vocab\n",
    "        # Can't filter smaller counts per bucket if those sentences still exist!\n",
    "        self.buckets = buckets if buckets else self.gen_buckets(\n",
    "            self.src_sent, self.targ_sent, filter_smaller_counts_than=1, max_sent_len=max_sent_len)\n",
    "        self.bisect = TwoDBisect(self.buckets)\n",
    "        self.max_sent_len = max_sent_len\n",
    "    \n",
    "    def group_lengths(self):\n",
    "        tuples = []\n",
    "        ctr = 0\n",
    "        for src, targ in zip(self.src_sent, self.targ_sent):\n",
    "            try:\n",
    "                len_tup = self.bisect.twod_bisect(src, targ)\n",
    "                rev_src = src[::-1] \n",
    "                tuples.append((src, targ, len_tup))\n",
    "            except Exception as e:\n",
    "                print(e)\n",
    "                print(src)\n",
    "                print(targ)\n",
    "                raise e\n",
    "        sorted_tuples = sorted(tuples, key=operator.itemgetter(2))\n",
    "        grouped = groupby(sorted_tuples, lambda x: x[2])\n",
    "        groups = {}\n",
    "        idx = 0\n",
    "        for grp in grouped:\n",
    "            print(\"grp: = %s\" % str(grp))\n",
    "            # get src and targ sentences, ignore the last elem of the tuple \n",
    "            # (the grouping key of (src_len, targ_len))\n",
    "            tmp = map(lambda x: x[:2], grp[1])\n",
    "            print(tmp)\n",
    "            idx += 1\n",
    "            if idx == 3:\n",
    "                return\n",
    "#             new_src = np.full((len(grouper), tup[0]), invalid_symbol, dtype=np.int32)\n",
    "#             new_targ = np.full((len(grouper), tup[1]), invalid_symbol, dtype=np.int32)\n",
    "#             groups[i[0]] = map(lambda x: list(x[:2]), i[1])\n",
    "        \n",
    "       # print(groups[(11,11)])\n",
    "\n",
    "        \n",
    "    @staticmethod \n",
    "    def filter_long_sent(src_sent, targ_sent, max_len):\n",
    "        result = filter(lambda x: len(x[0]) <= max_len and len(x[1]) <= max_len, zip(src_sent, targ_sent))\n",
    "        return zip(*result)\n",
    "\n",
    "    @staticmethod\n",
    "    def gen_buckets(src_sent, targ_sent, filter_smaller_counts_than=None, max_sent_len=60, min_sent_len=1):\n",
    "        length_pairs = map(lambda x: (len(x[0]), len(x[1])), zip(src_sent, targ_sent))\n",
    "        counts = list(Counter(length_pairs).items())\n",
    "        c_sorted = sorted(counts, key=operator.itemgetter(0, 1))\n",
    "        buckets = [i[0] for i in c_sorted if i[1] >= filter_smaller_counts_than and \n",
    "                   (max_sent_len is None or i[0][0] <= max_sent_len) and\n",
    "                   (max_sent_len is None or i[0][1] <= max_sent_len) and\n",
    "                   (min_sent_len is None or i[0][0] >= min_sent_len) and\n",
    "                   (min_sent_len is None or i[0][1] >= min_sent_len)]\n",
    "        return buckets\n",
    "\n",
    "#    def reset(self):\n",
    "#         self.curr_idx = 0\n",
    "#         random.shuffle(self.idx)\n",
    "#         for buck in self.data:\n",
    "#             np.random.shuffle(buck)\n",
    "\n",
    "#         self.nddata = []\n",
    "#         self.ndlabel = []\n",
    "#         for buck in self.data:\n",
    "#             label = np.empty_like(buck)\n",
    "#             label[:, :-1] = buck[:, 1:]\n",
    "#             label[:, -1] = self.invalid_label\n",
    "#             self.nddata.append(ndarray.array(buck, dtype=self.dtype))\n",
    "#             self.ndlabel.append(ndarray.array(label, dtype=self.dtype))\n",
    "\n",
    "#     def next(self):\n",
    "#         if self.curr_idx == len(self.idx):\n",
    "#             raise StopIteration\n",
    "#         i, j = self.idx[self.curr_idx]\n",
    "#         self.curr_idx += 1\n",
    "\n",
    "#         if self.major_axis == 1:\n",
    "#             data = self.nddata[i][j:j+self.batch_size].T\n",
    "#             label = self.ndlabel[i][j:j+self.batch_size].T\n",
    "#         else:\n",
    "#             data = self.nddata[i][j:j+self.batch_size]\n",
    "#             label = self.ndlabel[i][j:j+self.batch_size]\n",
    "\n",
    "#         return DataBatch([data], [label], pad=0,\n",
    "#                          bucket_key=self.buckets[i],\n",
    "#                          provide_data=[(self.data_name, data.shape)],\n",
    "#                          provide_label=[(self.label_name, label.shape)])"
   ]
  },
  {
   "cell_type": "code",
   "execution_count": 30,
   "metadata": {
    "collapsed": false,
    "deletable": true,
    "editable": true
   },
   "outputs": [],
   "source": [
    "i1 = Seq2SeqIterator(dataset)"
   ]
  },
  {
   "cell_type": "code",
   "execution_count": 13,
   "metadata": {
    "collapsed": false,
    "deletable": true,
    "editable": true
   },
   "outputs": [],
   "source": [
    "src_sent = dataset.src_sent\n",
    "targ_sent = dataset.targ_sent\n",
    "\n",
    "sent_len = lambda x: map(lambda y: len(y), x)\n",
    "max_len = lambda x: max(sent_len(x))\n",
    "min_len = lambda x: min(sent_len(x))\n",
    "\n",
    "min_len = min(min(sent_len(src_sent)), min(sent_len(targ_sent)))\n",
    "# max_len = max(max(sent_len(src_sent)), max(sent_len(targ_sent)))\n",
    "\n",
    "# min_len = min\n",
    "max_len = 65\n",
    "increment = 5\n",
    "\n",
    "all_pairs = [(i, j) for i in range(\n",
    "        min_len,max_len+increment,increment\n",
    "    ) for j in range(\n",
    "        min_len,max_len+increment,increment\n",
    "    )]"
   ]
  },
  {
   "cell_type": "code",
   "execution_count": 31,
   "metadata": {
    "collapsed": false,
    "deletable": true,
    "editable": true
   },
   "outputs": [],
   "source": [
    "i2 = Seq2SeqIterator(dataset, buckets=all_pairs)"
   ]
  },
  {
   "cell_type": "code",
   "execution_count": 32,
   "metadata": {
    "collapsed": false
   },
   "outputs": [
    {
     "name": "stdout",
     "output_type": "stream",
     "text": [
      "grp: = ((1, 1), <itertools._grouper object at 0x7f2111ca7550>)\n",
      "[([11315], [16634]), ([36], [30]), ([36], [30]), ([36], [30]), ([36], [30]), ([36], [30]), ([36], [30]), ([36], [30]), ([36], [30]), ([36], [30]), ([36], [30]), ([36], [30]), ([36], [30])]\n",
      "grp: = ((1, 6), <itertools._grouper object at 0x7f2111ca75d0>)\n",
      "[([561], [606, 4, 47, 607]), ([36], [98, 60, 1245, 1572, 30]), ([36], [97, 12276, 11985, 100]), ([36], [19189, 19, 315, 9, 30]), ([36], [595, 43, 52, 237, 30]), ([9799], [540, 3878, 41, 42, 16135, 30]), ([36], [3629, 285, 7001, 120, 2609, 30]), ([36], [97, 799, 100]), ([36], [48827, 74, 8, 1837, 4940, 30]), ([36], [4641, 1013, 19, 648, 30]), ([6193], [98, 60, 1245, 1572, 30]), ([561], [345, 277, 11, 883, 3079, 30]), ([20197], [1112, 75, 37188, 4, 4963, 30]), ([36], [606, 4, 47, 607]), ([36], [98, 60, 1245, 1572, 30]), ([36], [213, 24, 214, 2213, 30]), ([36], [45, 539, 3336, 315, 3180, 30]), ([9799], [10465, 3247, 481, 1637, 3247, 30]), ([36], [70974, 4, 9108]), ([11315], [86, 8841, 1589, 5029]), ([9799], [223, 242, 4208, 539, 330, 30]), ([17], [2518, 10158, 1772, 1505, 30]), ([36], [22556, 38605, 1007, 30]), ([36], [595, 214, 59, 308, 744, 30]), ([36], [5397, 1970, 3142, 30]), ([36], [26152, 4374, 30]), ([36], [595, 86, 30582, 30]), ([36], [981, 9408, 404, 3802, 30]), ([36], [6215, 2526, 1285, 348, 1444, 30]), ([36], [1198, 226, 4287, 70, 1478, 30]), ([36], [574, 33, 85579, 30]), ([36], [31421, 75, 260, 1774, 539, 30]), ([36], [595, 11563, 66, 2684, 30]), ([36], [30, 98, 60, 1245, 1572, 30]), ([36], [595, 420, 388, 5705, 30]), ([36], [129, 439, 24, 214, 1873, 129]), ([36], [1482, 26052, 47, 387, 30]), ([36], [3676, 595, 1472, 33755, 3676]), ([36], [589, 68, 897, 3940, 56705, 30]), ([36], [7081, 1778, 30]), ([36], [129, 88425, 129]), ([36], [2446, 41, 6020, 78, 518, 30]), ([36], [325, 103, 256, 165, 2338, 30]), ([36], [310, 214, 70, 104, 216, 30]), ([36], [45, 246, 402, 8, 13823, 30]), ([36], [98, 60, 1245, 1572, 30]), ([36], [595, 70, 28609, 30]), ([36], [310, 15777, 4, 350, 30]), ([36], [97, 799, 100]), ([36], [528, 10359, 30]), ([36], [595, 784, 13387, 152, 151, 30]), ([36], [3483, 1778, 11, 157, 2140, 30]), ([36], [360, 98, 60, 1245, 1572, 30]), ([36], [5637, 1655, 2090, 30]), ([36], [4109, 103, 968, 61, 22065, 30]), ([36], [2518, 304, 836, 539, 243, 30]), ([36], [10426, 11232, 404, 52, 349, 30]), ([36], [963, 214, 7382, 144, 30]), ([36], [97, 1370, 100]), ([36], [417, 30]), ([36], [25236, 3017, 11, 8, 11366, 30]), ([36], [129, 849, 24, 380, 129]), ([36], [1323, 152, 564, 30]), ([36], [98, 60, 1245, 1572, 30])]\n",
      "grp: = ((1, 11), <itertools._grouper object at 0x7f219cfb9890>)\n",
      "[([4688], [6071, 360, 6072, 97, 853, 360, 854, 100, 30]), ([36], [1812, 1085, 86, 2281, 2388, 11, 1316, 30]), ([36], [540, 7487, 16720, 41, 1783, 2196, 30]), ([70], [12070, 242, 24, 41, 420, 481, 24, 2555, 66, 1380, 30]), ([36], [3485, 2, 994, 4, 70, 363, 535]), ([36], [3483, 1778, 11, 157, 2140, 8428, 30]), ([9799], [97, 98, 134, 3562, 70, 860, 19, 70, 7480, 100]), ([9799], [574, 632, 4, 3407, 41, 4234, 388, 1987, 30]), ([561], [5542, 419, 41, 7720, 467, 3429, 30]), ([36], [595, 214, 1315, 24, 332, 689, 103, 3542, 4, 5967, 30]), ([4688], [97, 98, 134, 6128, 1139, 70, 279, 1026, 237, 6129, 100]), ([6293], [4840, 934, 214, 4580, 19, 835, 2845, 30]), ([13345], [9207, 17703, 74, 240, 288, 17, 34445, 30]), ([36], [2644, 11, 86, 2017, 5533, 650, 8, 10700, 1783, 2273, 30]), ([11315], [811, 4962, 41, 15934, 86, 1137, 30]), ([12536], [439, 78, 440, 11, 3676, 1224, 22392, 3676]), ([9799], [574, 978, 152, 6205, 19, 12354, 152, 6094, 30]), ([36], [3599, 4576, 35899, 97, 1023, 360, 21099, 878, 40, 100]), ([36], [3599, 20637, 97, 1023, 360, 39608, 878, 40, 100]), ([36], [34711, 97, 853, 360, 854, 100, 30]), ([25281], [41455, 14346, 1576, 66, 1395, 19, 484, 30]), ([36], [176, 625, 3843, 152, 668, 74, 3844, 30]), ([36], [574, 363, 42, 42033, 1161, 30, 938, 78, 3537, 985, 30]), ([36], [98, 1221, 505, 8363, 66, 70, 3633, 1312, 4, 13493, 30]), ([36], [325, 216, 63, 7119, 103, 675, 11688, 357, 3048, 30]), ([6293], [34397, 4, 298, 66, 47, 249, 250]), ([561], [963, 43, 52, 1315, 337, 922, 4, 70, 28781, 30718, 30]), ([11315], [325, 4197, 59, 73, 44429, 360, 10215, 30]), ([9799], [20422, 19, 2345, 78, 24, 5670, 242, 30]), ([7801], [98, 923, 285, 16945, 154, 17514, 30]), ([7776], [574, 89, 90, 214, 59, 955, 4, 152, 2527, 30]), ([9799], [310, 41, 214, 103, 4, 546, 3835, 30]), ([36], [1198, 41, 226, 51855, 154, 778, 4, 152, 755, 30]), ([36], [325, 1762, 337, 2214, 103, 3815, 4, 31779, 925, 24522, 30]), ([36], [129, 31, 459, 2385, 8, 2204, 1098, 276, 546, 117, 129]), ([11681], [1600, 1154, 1239, 357, 68, 3017, 30]), ([4688], [31345, 4, 70, 2218, 97, 1242, 100]), ([561], [45, 246, 402, 11, 42, 4547, 404, 3802, 8, 505, 30]), ([11315], [595, 1446, 11, 157, 134, 11, 214, 165, 14316, 30]), ([9799], [938, 10410, 11, 2650, 11, 4, 103, 3542, 1063, 30]), ([36], [5874, 689, 1279, 4294, 108, 581, 2, 2009, 2, 9, 30]), ([11315], [50027, 70, 58570, 4, 37, 33566, 37, 30]), ([36], [574, 192, 152, 925, 4885, 120, 1195, 701, 30]), ([36], [963, 2566, 2588, 7457, 47, 3927, 30]), ([561], [811, 1281, 43, 689, 103, 1209, 8176, 66, 70, 498, 30]), ([33548], [6091, 4, 697, 1026, 61, 70, 151, 66, 10052, 7298]), ([36], [45, 1661, 11, 41, 784, 6528, 8, 185, 30]), ([36], [439, 440, 11, 77, 643, 24, 2820, 103, 1846, 30]), ([561], [2669, 4, 17680, 17, 594, 4, 70, 89]), ([36], [10115, 2719, 11, 43526, 17, 13555, 30]), ([4688], [595, 420, 103, 8760, 9502, 284, 11, 918, 358, 30]), ([36], [310, 192, 11, 1436, 4577, 11, 41, 214, 1001, 1311, 30]), ([36], [574, 2249, 2, 5745, 14732, 200, 348, 29497, 30]), ([561], [1236, 3922, 66, 728, 74, 421, 1970, 30]), ([36], [3483, 1778, 11, 157, 2140, 11, 108, 154, 1209, 30]), ([36], [2130, 2049, 5475, 2, 24529, 959, 4, 70, 2553, 3075, 30]), ([36], [3599, 10197, 10198, 97, 1023, 360, 19572, 878, 1399, 100]), ([36], [811, 11835, 19, 154, 6414, 41, 93, 643, 1215, 30]), ([36], [528, 11677, 1285, 825, 70, 2305, 4, 2077, 204, 522, 30]), ([36], [7601, 74, 421, 2885, 41134, 4, 4531, 30]), ([4688], [5642, 5643, 66, 1162, 8, 1606, 2654, 30]), ([4688], [3989, 11, 230, 4694, 43, 16136, 66, 650, 2, 24287, 30]), ([36], [574, 1209, 41, 77, 43, 5872, 492, 30]), ([36], [169, 36766, 4, 17513, 566, 103, 340, 3911, 30]), ([11315], [1192, 4911, 41, 590, 66, 70, 583, 1663, 30]), ([36], [8390, 77, 28769, 17, 30246, 8, 858, 4138, 30]), ([9799], [3599, 13529, 97, 1023, 360, 37920, 878, 1399, 100]), ([36], [20564, 11, 337, 200, 41544, 4, 47, 7861, 30]), ([7336], [1192, 1528, 1550, 41, 43, 1899, 481, 985, 1637, 30]), ([36], [595, 42, 200, 2367, 1623, 1904, 51173, 30]), ([36], [98, 4979, 214, 59, 39, 933, 63, 70, 675, 2157, 30]), ([13345], [2552, 825, 4340, 17, 5933, 66, 8, 9, 30]), ([22263], [360, 3599, 17797, 97, 1023, 360, 67845, 878, 1399, 100]), ([36], [963, 214, 232, 24, 47, 421, 1869, 30]), ([36], [439, 78, 440, 11, 42, 55083, 66, 70, 395, 188, 30]), ([36], [17422, 4, 4043, 3316, 78, 2299, 19, 524, 30]), ([36], [6557, 66, 728, 74, 21775, 214, 7708, 30]), ([36], [130, 727, 24, 143, 8, 9, 32332, 152, 2105, 30]), ([36], [574, 538, 2, 5175, 46487, 1984, 2310, 108, 70, 7657, 30]), ([36], [574, 41, 697, 2, 4303, 74, 74022, 13845, 985, 30]), ([36], [439, 1263, 11, 3224, 41, 63, 4, 5867, 2826, 30]), ([36], [5407, 33863, 74, 59, 16, 161, 4055, 18872, 30]), ([36], [963, 1513, 11, 108, 1129, 11, 86, 10032, 4, 8743, 30]), ([36], [1448, 134, 11, 317, 242, 103, 362, 1730, 120, 922, 30]), ([36], [3718, 3166, 1202, 419, 304, 2547, 59, 1467, 2352, 30]), ([36], [811, 41, 365, 41, 214, 8880, 30]), ([36], [325, 649, 505, 24, 1245, 108, 4177, 30]), ([36], [21775, 656, 8, 64519, 4, 11322, 30]), ([36], [938, 43, 14733, 19, 59, 5693, 30]), ([36], [2535, 3544, 4, 24, 2403, 237, 30]), ([25151], [938, 11531, 337, 19, 70, 5468, 8994, 19, 70, 1069, 30]), ([36], [45, 68, 856, 304, 4, 348, 9918, 30]), ([36], [50803, 8, 1097, 1643, 41, 214, 103, 8268, 2982, 30]), ([36], [98, 1318, 21781, 4, 86, 5346, 3232, 103, 319, 1100, 30]), ([36], [338, 214, 59, 36, 10248, 63, 373, 30]), ([36], [300, 42, 43, 414, 3740, 86, 1391, 30]), ([36], [822, 420, 24, 1531, 388, 1857, 30]), ([36], [45, 21656, 915, 11956, 502, 57, 30]), ([36], [439, 1263, 11, 1550, 420, 3030, 19, 68, 922, 30]), ([36], [3483, 1778, 108, 154, 3716, 11, 157, 12630, 30]), ([36], [24118, 339, 5424, 19, 47, 3975, 4, 7484, 65118, 30]), ([36], [938, 27397, 19, 86, 9024, 30, 1575, 1576, 30]), ([36], [1192, 214, 8, 3180, 165, 564, 24, 125, 8, 9, 30]), ([36], [5701, 151, 214, 5075, 17, 2107, 2017, 1090, 30]), ([36], [574, 871, 1573, 402, 120, 2713, 4, 47, 3518, 30]), ([36], [8206, 233, 242, 2924, 24, 41, 773, 823, 30]), ([36], [811, 41, 78, 596, 74, 464, 30]), ([36], [5407, 24, 2371, 68, 1863, 4, 502, 30]), ([36], [574, 25249, 4, 40168, 200, 5699, 388, 9335, 17, 12031, 30]), ([36], [310, 971, 8646, 715, 70, 1119, 192, 4, 70, 632, 30]), ([36], [310, 871, 200, 578, 59, 564, 579, 120, 923, 30]), ([36], [574, 6541, 2, 18944, 43, 15337, 19, 1198, 30]), ([36], [213, 24, 1320, 9309, 66, 1122, 30]), ([50373], [97, 98, 9, 3118, 70, 697, 231, 100]), ([36], [503, 725, 24, 77, 3295, 19, 70, 2480, 30]), ([36], [4696, 304, 15437, 70, 151, 472, 59, 13783, 165, 2968, 30]), ([36], [4109, 24, 4756, 59, 1130, 4, 7166, 30]), ([36], [574, 735, 2044, 86, 3201, 3528, 2273, 30]), ([424], [2523, 2051, 12279, 108, 8, 6777, 2, 18944, 30]), ([36], [45, 1099, 402, 11, 802, 24, 77, 20037, 103, 1730, 30]), ([36], [540, 1118, 1665, 66, 1666, 9261, 66, 152, 188, 30]), ([36], [1448, 2140, 11, 66, 1355, 8, 81787, 214, 165, 1100, 30]), ([36], [1323, 294, 154, 498, 4, 348, 30]), ([36], [822, 41, 42, 914, 4, 467, 4481, 650, 47, 13241, 30]), ([36], [938, 33, 268, 2158, 2725, 17, 1915, 30]), ([36], [963, 42, 39391, 19, 7570, 4, 13730, 30]), ([36], [3676, 88174, 19, 6821, 17, 4630, 36490, 282, 70, 49781, 3676]), ([36], [439, 78, 440, 11, 50, 3783, 2701, 17, 633, 1820, 30]), ([36], [6161, 8363, 8, 24133, 4, 70, 104, 30]), ([36], [1377, 9183, 70, 978, 3491, 161, 59, 3769, 30]), ([36], [811, 4443, 8, 11453, 4, 47, 9514, 30]), ([36], [822, 41, 226, 404, 17701, 74, 61524, 4, 21252, 30]), ([36], [4161, 43, 585, 24, 152, 12145, 1775, 59, 2503, 5641, 30]), ([36], [1112, 1990, 513, 1901, 17, 1990, 3857, 19, 70, 3934, 30]), ([17], [129, 4233, 11933, 66, 240, 2918, 129]), ([36], [540, 2051, 12747, 598, 59, 1318, 11301, 30]), ([36], [129, 325, 691, 74, 50186, 86, 4316, 129]), ([36], [8223, 624, 13869, 4, 45668, 4043, 3316]), ([36], [1236, 688, 86, 1778, 108, 154, 1209, 30]), ([36], [1742, 24, 86, 2115, 2044, 138, 30]), ([36], [4161, 874, 108, 70, 4339, 3319, 2, 9, 10, 30]), ([36], [176, 735, 3501, 42, 178, 19, 47, 51, 30]), ([36], [574, 4104, 19732, 226, 3417, 70, 10704, 30]), ([36], [5701, 182, 1777, 421, 4752, 19, 434, 23795, 30]), ([36], [12507, 581, 4, 835, 3667, 6904, 30]), ([36], [439, 1263, 11, 1380, 41, 214, 237, 30]), ([36], [5407, 337, 24, 2098, 835, 1383, 2, 3019, 1796, 15754, 30]), ([36], [540, 6120, 4, 3223, 303, 1783, 8649, 66, 501, 5977, 30]), ([36], [345, 277, 11, 317, 227, 863, 1309, 17, 2562, 30]), ([36], [9465, 24, 42, 1311, 59, 1221, 1606, 30]), ([36], [5687, 4, 1758, 214, 8, 1528, 4, 635, 30]), ([36], [6215, 817, 10262, 915, 9012, 1628, 884, 5112, 165, 18348, 30]), ([36], [2894, 86, 12696, 66, 1244, 4, 2190, 30]), ([36], [98, 2251, 214, 45979, 11, 425, 41, 3564, 30]), ([36], [540, 5947, 218, 2, 68, 4, 5450, 41, 40747, 30]), ([36], [963, 17, 230, 539, 214, 78, 24, 152, 66, 4467, 30]), ([36], [2535, 66, 650, 4, 47, 1227, 10366, 30]), ([36], [938, 24, 420, 1522, 24, 598, 5614, 522, 8867, 30]), ([36], [12172, 157, 41053, 11, 214, 107, 59, 228, 48024, 30]), ([36], [938, 33, 3109, 407, 374, 165, 2936, 30]), ([36], [45, 8, 66289, 66290, 41, 43, 689, 1623, 60, 30]), ([36], [5542, 419, 41, 304, 5390, 467, 1209, 30]), ([36], [43466, 43467, 214, 59, 155, 11187, 11, 26931, 17, 84269, 30]), ([36], [6215, 18739, 4435, 41, 1375, 9309, 66, 311, 419, 30]), ([36], [98, 2140, 3408, 43, 2519, 4, 884, 74, 8238, 51, 30]), ([36], [5642, 21685, 19, 70, 2151, 4, 21775, 30]), ([36], [574, 76482, 656, 15779, 63, 8588, 66, 539, 30]), ([36], [223, 3514, 59, 1720, 4, 3153, 120, 922, 30]), ([36], [8206, 1561, 1331, 42, 93858, 624, 66, 1198, 30]), ([36], [439, 8, 241, 11, 4, 143, 1380, 42, 914, 30]), ([36], [595, 230, 1496, 59, 2036, 11, 918, 337, 59, 2036, 30]), ([36], [8674, 780, 41, 32787, 24, 41, 78, 33497, 30]), ([36], [1192, 4199, 38250, 86, 513, 4, 369, 8168, 30]), ([36], [595, 997, 4, 9252, 11, 351, 11, 154, 936, 30]), ([36], [7614, 725, 24, 214, 59, 2775, 458, 30]), ([36], [6215, 1970, 3708, 63, 24, 415, 3500, 19, 648, 30]), ([36], [1323, 1573, 2972, 66, 103, 2425, 3147, 2, 105, 30]), ([36], [1363, 1506, 1380, 13148, 66, 2467, 4, 32, 47, 381, 30]), ([36], [8206, 988, 585, 24, 416, 421, 187, 30]), ([36], [10096, 3017, 11, 8, 652, 13776, 30]), ([36], [129, 8044, 214, 70, 418, 4, 143, 539, 129]), ([36], [360, 554, 3537, 152, 1209, 11, 157, 2140, 30]), ([36], [310, 41, 214, 196, 4, 2621, 8, 10430, 30]), ([36], [574, 20168, 27156, 17, 138, 2017, 41, 7229, 30]), ([36], [439, 1238, 11, 802, 1237, 19, 59, 1238, 856, 30]), ([36], [360, 1384, 4, 10921, 17, 8125, 4, 340, 11]), ([36], [12555, 8, 648, 4, 7129, 70, 14681, 17, 8, 34234, 30])]\n"
     ]
    }
   ],
   "source": [
    "i2.group_lengths()"
   ]
  },
  {
   "cell_type": "code",
   "execution_count": null,
   "metadata": {
    "collapsed": true
   },
   "outputs": [],
   "source": []
  }
 ],
 "metadata": {
  "kernelspec": {
   "display_name": "Python 2",
   "language": "python",
   "name": "python2"
  },
  "language_info": {
   "codemirror_mode": {
    "name": "ipython",
    "version": 2
   },
   "file_extension": ".py",
   "mimetype": "text/x-python",
   "name": "python",
   "nbconvert_exporter": "python",
   "pygments_lexer": "ipython2",
   "version": "2.7.12"
  }
 },
 "nbformat": 4,
 "nbformat_minor": 2
}
