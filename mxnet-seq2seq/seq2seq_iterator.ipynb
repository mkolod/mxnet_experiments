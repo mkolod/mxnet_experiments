{
 "cells": [
  {
   "cell_type": "code",
   "execution_count": 1,
   "metadata": {
    "collapsed": false,
    "deletable": true,
    "editable": true
   },
   "outputs": [
    {
     "name": "stderr",
     "output_type": "stream",
     "text": [
      "/usr/lib/python2.7/json/encoder.py:207: DeprecationWarning: Interpreting naive datetime as local 2017-03-31 20:12:10.431816. Please add timezone info to timestamps.\n",
      "  chunks = self.iterencode(o, _one_shot=True)\n"
     ]
    }
   ],
   "source": [
    "import numpy as np\n",
    "import mxnet as mx\n",
    "from collections import namedtuple, Counter\n",
    "from unidecode import unidecode\n",
    "from itertools import groupby\n",
    "from mxnet.io import DataIter\n",
    "from random import shuffle\n",
    "\n",
    "import deepdish as dd\n",
    "\n",
    "import operator\n",
    "import pickle\n",
    "import re\n",
    "import warnings"
   ]
  },
  {
   "cell_type": "code",
   "execution_count": 2,
   "metadata": {
    "collapsed": false,
    "deletable": true,
    "editable": true
   },
   "outputs": [],
   "source": [
    "# Get rid of annoying Python deprecation warnings from built-in JSON encoder\n",
    "warnings.filterwarnings(\"ignore\", category=DeprecationWarning)   "
   ]
  },
  {
   "cell_type": "code",
   "execution_count": 120,
   "metadata": {
    "collapsed": true,
    "deletable": true,
    "editable": true
   },
   "outputs": [],
   "source": [
    "# Decode text as UTF-8\n",
    "# Remove diacritical signs and convert to Latin alphabet\n",
    "# Separate punctuation as separate \"words\"\n",
    "def tokenize_text(fname, vocab=None, invalid_label=0, start_label=1, sep_punctuation=True):\n",
    "    lines = unidecode(open(fname).read().decode('utf-8')).split('\\n')\n",
    "#     lines = [x for x in lines if x]\n",
    "    lines = map(lambda x: re.findall(r\"\\w+|[^\\w\\s]\", x, re.UNICODE), lines)    \n",
    "    sentences, vocab = mx.rnn.encode_sentences(lines, vocab=vocab, invalid_label=invalid_label, start_label=start_label)\n",
    "    return sentences, vocab\n",
    "\n",
    "Dataset = namedtuple(\n",
    "    'Dataset', \n",
    "    ['src_sent', 'src_vocab', 'inv_src_vocab', 'targ_sent', 'targ_vocab', 'inv_targ_vocab'])\n",
    "\n",
    "def invert_dict(d):\n",
    "    return {v: k for k, v in d.iteritems()}\n",
    "\n",
    "\n",
    "def get_data(src_path, targ_path, start_label=1, invalid_label=0, pad_symbol='<PAD>'):\n",
    "    src_sent, src_vocab = tokenize_text(src_path, start_label=start_label,\n",
    "                                invalid_label=invalid_label)\n",
    "    \n",
    "    src_vocab[pad_symbol] = invalid_label\n",
    "    inv_src_vocab = invert_dict(src_vocab)\n",
    "\n",
    "    targ_sent, targ_vocab = tokenize_text(targ_path, start_label=start_label, #new_start+1,\n",
    "                                          invalid_label=invalid_label)\n",
    "    \n",
    "    targ_vocab[pad_symbol] = invalid_label\n",
    "    inv_targ_vocab = invert_dict(targ_vocab)\n",
    "    \n",
    "    return Dataset(\n",
    "        src_sent=src_sent, src_vocab=src_vocab, inv_src_vocab=inv_src_vocab,\n",
    "        targ_sent=targ_sent, targ_vocab=targ_vocab, inv_targ_vocab=inv_targ_vocab)"
   ]
  },
  {
   "cell_type": "code",
   "execution_count": 121,
   "metadata": {
    "collapsed": true,
    "deletable": true,
    "editable": true
   },
   "outputs": [],
   "source": [
    "def persist_dataset(dataset, path):\n",
    "    with open(path, 'wb+') as fileobj:\n",
    "        pickle.dump(dataset, fileobj)\n",
    "        \n",
    "def load_dataset(path):\n",
    "    with open(path, 'rb') as fileobj:\n",
    "        return pickle.load(fileobj)"
   ]
  },
  {
   "cell_type": "code",
   "execution_count": 122,
   "metadata": {
    "collapsed": false,
    "deletable": true,
    "editable": true
   },
   "outputs": [],
   "source": [
    "dataset = \\\n",
    "    get_data(\n",
    "        src_path='./data/europarl-v7.es-en.en_small',\n",
    "        targ_path='./data/europarl-v7.es-en.es_small',\n",
    "        start_label=1,\n",
    "        invalid_label=0\n",
    "    )"
   ]
  },
  {
   "cell_type": "code",
   "execution_count": 193,
   "metadata": {
    "collapsed": false,
    "deletable": true,
    "editable": true
   },
   "outputs": [],
   "source": [
    "class Seq2SeqIterator:    \n",
    "\n",
    "    class TwoDBisect:\n",
    "        def __init__(self, buckets):\n",
    "            self.buckets = sorted(buckets, key=operator.itemgetter(0, 1))\n",
    "            self.x, self.y = zip(*buckets)\n",
    "            self.x, self.y = np.array(list(self.x)), np.array(list(self.y))\n",
    "\n",
    "        def twod_bisect(self, source, target):    \n",
    "            offset1 = np.searchsorted(self.x, len(source), side='left')\n",
    "            offset2 = np.where(self.y[offset1:] >= len(target))[0]        \n",
    "            return self.buckets[offset1 + offset2[0]]     \n",
    "    \n",
    "    def __init__(self, dataset, buckets=None, batch_size=32, max_sent_len=None):\n",
    "        self.batch_size = batch_size\n",
    "        self.src_sent = dataset.src_sent\n",
    "        self.targ_sent = dataset.targ_sent\n",
    "        if buckets:\n",
    "            z = zip(*buckets)\n",
    "            self.max_sent_len = max(max(z[0]), max(z[1]))\n",
    "        else:\n",
    "            self.max_sent_len = max_sent_len\n",
    "        if self.max_sent_len:\n",
    "            self.src_sent, self.targ_sent = self.filter_long_sent(\n",
    "                self.src_sent, self.targ_sent, self.max_sent_len) \n",
    "        self.src_vocab = dataset.src_vocab\n",
    "        self.targ_vocab = dataset.targ_vocab\n",
    "        self.inv_src_vocab = dataset.inv_src_vocab\n",
    "        self.inv_targ_vocab = dataset.inv_targ_vocab\n",
    "        # Can't filter smaller counts per bucket if those sentences still exist!\n",
    "        self.buckets = buckets if buckets else self.gen_buckets(\n",
    "            self.src_sent, self.targ_sent, filter_smaller_counts_than=1, max_sent_len=max_sent_len)\n",
    "        self.bisect = Seq2SeqIterator.TwoDBisect(self.buckets)\n",
    "        self.max_sent_len = max_sent_len\n",
    "        self.pad_id = self.src_vocab['<PAD>']\n",
    "        # After bucketization, we should probably del self.src_sent and self.targ_sent\n",
    "        # to free up memory.\n",
    "        self.bucketed_data, self.bucket_idx_to_key = self.bucketize()\n",
    "        self.bucket_key_to_idx = invert_dict(dict(enumerate(self.bucket_idx_to_key)))\n",
    "        self.interbucket_idx = -1\n",
    "        self.curr_chunks = None\n",
    "        self.curr_buck = None\n",
    "        self.switch_bucket = True\n",
    "        self.num_buckets = len(self.bucket_idx_to_key)\n",
    "        self.bucket_iterator_indices = list(range(self.num_buckets))\n",
    "\n",
    "    \n",
    "    def bucketize(self):\n",
    "        tuples = []\n",
    "        ctr = 0\n",
    "        for src, targ in zip(self.src_sent, self.targ_sent):\n",
    "            len_tup = self.bisect.twod_bisect(src, targ)\n",
    "            rev_src = src[::-1] \n",
    "            tuples.append((src, targ, len_tup))\n",
    "            \n",
    "        sorted_tuples = sorted(tuples, key=operator.itemgetter(2))\n",
    "        grouped = groupby(sorted_tuples, lambda x: x[2])\n",
    "        bucketed_data = [] \n",
    "        bucket_idx_to_key = []\n",
    "        \n",
    "        for group in grouped:\n",
    "            \n",
    "            # get src and targ sentences, ignore the last elem of the tuple \n",
    "            # (the grouping key of (src_len, targ_len))\n",
    "            key, value = group[0], map(lambda x: x[:2], group[1])\n",
    "            if len(value) < self.batch_size:\n",
    "                continue\n",
    "\n",
    "            # create padded representation\n",
    "            new_src = np.full((len(value), key[0]), self.pad_id, dtype=np.int32)\n",
    "            new_targ = np.full((len(value), key[1]), self.pad_id, dtype=np.int32)\n",
    "            \n",
    "            for idx, example in enumerate(value):\n",
    "                curr_src, curr_targ = example\n",
    "                rev_src = curr_src[::-1]\n",
    "                new_src[idx, :-(len(rev_src)+1):-1] = curr_src #rev_src\n",
    "                new_targ[idx, :len(curr_targ)] = curr_targ\n",
    "                                \n",
    "            bucketed_data.append((new_src, new_targ))\n",
    "            bucket_idx_to_key.append(key)\n",
    "        return bucketed_data, bucket_idx_to_key\n",
    "    \n",
    "    def current_bucket_key(self):\n",
    "        return self.bucket_idx_to_key[self.interbucket_idx]\n",
    "    \n",
    "    def current_bucket_index(self):\n",
    "        return self.bucket_iterator_indices[self.interbucket_idx]\n",
    "\n",
    "    # shuffle the data within buckets, and reset iterator\n",
    "    def reset(self):\n",
    "        self.interbucket_idx = -1\n",
    "        for idx in xrange(len(self.bucketed_data)):\n",
    "            current = self.bucketed_data[idx]\n",
    "            src, targ = current\n",
    "            indices = np.array(range(len(src)))\n",
    "            np.random.shuffle(indices)\n",
    "            src = src[indices]\n",
    "            targ = targ[indices]\n",
    "            self.bucketed_data[idx] = (src, targ)\n",
    "        shuffle(self.bucket_iterator_indices)\n",
    "\n",
    "    # iterate over data\n",
    "    def next(self):\n",
    "        try:\n",
    "            if self.switch_bucket:\n",
    "                self.interbucket_idx += 1\n",
    "                bucket_idx = self.bucket_iterator_indices[self.interbucket_idx]\n",
    "                self.curr_buck = self.bucketed_data[bucket_idx]\n",
    "                buck_len = len(self.curr_buck[0])\n",
    "                self.curr_chunks = self.chunks(range(buck_len), self.batch_size)\n",
    "                self.switch_bucket = False\n",
    "            current = self.curr_chunks.next()\n",
    "            src_ex = self.curr_buck[0][current]\n",
    "            targ_ex = self.curr_buck[1][current]\n",
    "            return (src_ex, targ_ex)\n",
    "        except StopIteration as si:\n",
    "            if self.interbucket_idx == self.num_buckets - 1:\n",
    "                self.reset()\n",
    "                self.switch_bucket = True\n",
    "                raise si\n",
    "            else:\n",
    "                self.switch_bucket = True\n",
    "                return self.next()\n",
    "\n",
    "    @staticmethod\n",
    "    def chunks(iterable, batch_size, trim_incomplete_batches=True):\n",
    "        n = max(1, batch_size)\n",
    "        end = len(iterable)/n*n if trim_incomplete_batches else len(iterable)\n",
    "        return (iterable[i:i+n] for i in xrange(0, end, n))\n",
    "    \n",
    "    @staticmethod \n",
    "    def filter_long_sent(src_sent, targ_sent, max_len):\n",
    "        result = filter(lambda x: len(x[0]) <= max_len and len(x[1]) <= max_len, zip(src_sent, targ_sent))\n",
    "        return zip(*result)\n",
    "\n",
    "    @staticmethod\n",
    "    def gen_buckets(src_sent, targ_sent, filter_smaller_counts_than=None, max_sent_len=60, min_sent_len=1):\n",
    "        length_pairs = map(lambda x: (len(x[0]), len(x[1])), zip(src_sent, targ_sent))\n",
    "        counts = list(Counter(length_pairs).items())\n",
    "        c_sorted = sorted(counts, key=operator.itemgetter(0, 1))\n",
    "        buckets = [i[0] for i in c_sorted if i[1] >= filter_smaller_counts_than and \n",
    "                   (max_sent_len is None or i[0][0] <= max_sent_len) and\n",
    "                   (max_sent_len is None or i[0][1] <= max_sent_len) and\n",
    "                   (min_sent_len is None or i[0][0] >= min_sent_len) and\n",
    "                   (min_sent_len is None or i[0][1] >= min_sent_len)]\n",
    "        return buckets"
   ]
  },
  {
   "cell_type": "code",
   "execution_count": 194,
   "metadata": {
    "collapsed": true,
    "deletable": true,
    "editable": true
   },
   "outputs": [],
   "source": [
    "src_sent = dataset.src_sent\n",
    "targ_sent = dataset.targ_sent\n",
    "\n",
    "sent_len = lambda x: map(lambda y: len(y), x)\n",
    "max_len = lambda x: max(sent_len(x))\n",
    "min_len = lambda x: min(sent_len(x))\n",
    "\n",
    "min_len = min(min(sent_len(src_sent)), min(sent_len(targ_sent)))\n",
    "\n",
    "# min_len = min\n",
    "max_len = 65\n",
    "increment = 5\n",
    "\n",
    "all_pairs = [(i, j) for i in xrange(\n",
    "        min_len,max_len+increment,increment\n",
    "    ) for j in xrange(\n",
    "        min_len,max_len+increment,increment\n",
    "    )]"
   ]
  },
  {
   "cell_type": "code",
   "execution_count": 195,
   "metadata": {
    "collapsed": false,
    "deletable": true,
    "editable": true
   },
   "outputs": [],
   "source": [
    "i2 = Seq2SeqIterator(dataset, buckets=all_pairs)"
   ]
  },
  {
   "cell_type": "code",
   "execution_count": 196,
   "metadata": {
    "collapsed": false,
    "deletable": true,
    "editable": true
   },
   "outputs": [],
   "source": [
    "i2.reset()\n",
    "rand_sent = i2.next()\n",
    "src, targ = rand_sent"
   ]
  },
  {
   "cell_type": "code",
   "execution_count": 197,
   "metadata": {
    "collapsed": false
   },
   "outputs": [],
   "source": [
    "def print_text(iterator, vocab, text, max_examples=10):\n",
    "    for i in range(min(max_examples, len(src))):\n",
    "        x = text[i]\n",
    "        s = []\n",
    "        for j in range(len(x)):\n",
    "            s.append(vocab[x[j]])\n",
    "        print(\" \".join(s))"
   ]
  },
  {
   "cell_type": "code",
   "execution_count": 198,
   "metadata": {
    "collapsed": false
   },
   "outputs": [
    {
     "name": "stdout",
     "output_type": "stream",
     "text": [
      "<PAD> ) 2006 - 2001 ( programme action health Public\n",
      ". principle precautionary the of credibility the damages wolf Crying\n",
      ". consideration due this giving is Position Common the Even\n",
      "<PAD> . sales of fraction a only constitute drugs AIDS\n",
      "<PAD> <PAD> . stability political be there can then Only\n",
      "<PAD> <PAD> . leave paternity about talked also have We\n",
      ". premature than overdue more therefore is Conference UN The\n",
      ". however , step first the take finally must We\n",
      "<PAD> . here applicable particularly , therefore , is Subsidiarity\n",
      "! parties against is here somebody that thinks Baron Mr\n"
     ]
    }
   ],
   "source": [
    "print_text(i2, i2.inv_src_vocab, src)"
   ]
  },
  {
   "cell_type": "code",
   "execution_count": 199,
   "metadata": {
    "collapsed": false
   },
   "outputs": [
    {
     "name": "stdout",
     "output_type": "stream",
     "text": [
      "Programa de accion comunitario en el ambito de la salud publica ( 2001 - 2006 ) <PAD> <PAD> <PAD> <PAD>\n",
      "Lanzar la voz de alarma , como el pastorcito mentiroso , perjudica la credibilidad del principio de cautela . <PAD>\n",
      "Si realmente hace falta una normativa mi Grupo se conforma con lo dispuesto en la posicion comun . <PAD> <PAD>\n",
      "Los medicamentos para los enfermos de sida tan solo constituyen una minima parte del volumen de negocios . <PAD> <PAD>\n",
      "Solo con una politica que garantice la integridad territorial y la soberania puede haber estabilidad politica . <PAD> <PAD> <PAD>\n",
      "Tambien se ha hablado de la licencia de los hombres para cuidar a sus hijos pequenos . <PAD> <PAD> <PAD>\n",
      "Por eso , puede decirse que la Conferencia de Naciones Unidas llega mas bien tarde que pronto . <PAD> <PAD>\n",
      "Sin embargo , hemos de dar , de una vez por todas , el primer paso . <PAD> <PAD> <PAD>\n",
      "El principio de subsidieriedad debe aplicarse , por lo tanto , en un grado muy importante . <PAD> <PAD> <PAD>\n",
      "! Y el Sr . Baron piensa que alguien de aqui esta en contra de los partidos ! <PAD> <PAD>\n"
     ]
    }
   ],
   "source": [
    "print_text(i2, i2.inv_targ_vocab, targ)"
   ]
  }
 ],
 "metadata": {
  "kernelspec": {
   "display_name": "Python 2",
   "language": "python",
   "name": "python2"
  },
  "language_info": {
   "codemirror_mode": {
    "name": "ipython",
    "version": 2
   },
   "file_extension": ".py",
   "mimetype": "text/x-python",
   "name": "python",
   "nbconvert_exporter": "python",
   "pygments_lexer": "ipython2",
   "version": "2.7.12"
  }
 },
 "nbformat": 4,
 "nbformat_minor": 2
}
